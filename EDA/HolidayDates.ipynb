{
 "cells": [
  {
   "cell_type": "code",
   "execution_count": 12,
   "metadata": {
    "colab": {
     "base_uri": "https://localhost:8080/"
    },
    "id": "3PNFTLirrdVm",
    "outputId": "d696d04c-4bd0-43b4-dcf9-90e297a9da03"
   },
   "outputs": [
    {
     "name": "stdout",
     "output_type": "stream",
     "text": [
      "         Date      Holiday    WeekDay  Month  Day  Year\n",
      "0  2004-07-04  4th of July     Sunday      7    4  2004\n",
      "1  2005-07-04  4th of July     Monday      7    4  2005\n",
      "2  2006-07-04  4th of July    Tuesday      7    4  2006\n",
      "3  2007-07-04  4th of July  Wednesday      7    4  2007\n",
      "4  2008-07-04  4th of July     Friday      7    4  2008\n",
      "<class 'pandas.core.frame.DataFrame'>\n",
      "RangeIndex: 342 entries, 0 to 341\n",
      "Data columns (total 6 columns):\n",
      " #   Column   Non-Null Count  Dtype \n",
      "---  ------   --------------  ----- \n",
      " 0   Date     342 non-null    object\n",
      " 1   Holiday  342 non-null    object\n",
      " 2   WeekDay  342 non-null    object\n",
      " 3   Month    342 non-null    int64 \n",
      " 4   Day      342 non-null    int64 \n",
      " 5   Year     342 non-null    int64 \n",
      "dtypes: int64(3), object(3)\n",
      "memory usage: 16.2+ KB\n",
      "None\n"
     ]
    }
   ],
   "source": [
    "import pandas as pd\n",
    "import matplotlib.pyplot as plt\n",
    "import numpy as py\n",
    "\n",
    "\n",
    "# Read in bus transit data\n",
    "holidays = pd.read_csv('/content/US Holiday Dates (2004-2021).csv')\n",
    "print(holidays.head())\n",
    "print(holidays.info())"
   ]
  },
  {
   "cell_type": "code",
   "execution_count": 13,
   "metadata": {
    "colab": {
     "base_uri": "https://localhost:8080/"
    },
    "id": "b3P7g3cor2nl",
    "outputId": "6368ca33-9e66-4806-f394-85aeba633098"
   },
   "outputs": [
    {
     "name": "stdout",
     "output_type": "stream",
     "text": [
      "         Date      Holiday    WeekDay  Month  Day  Year\n",
      "11 2015-07-04  4th of July   Saturday      7    4  2015\n",
      "12 2016-07-04  4th of July     Monday      7    4  2016\n",
      "13 2017-07-04  4th of July    Tuesday      7    4  2017\n",
      "14 2018-07-04  4th of July  Wednesday      7    4  2018\n",
      "15 2019-07-04  4th of July   Thursday      7    4  2019\n"
     ]
    }
   ],
   "source": [
    "holidays['Date'] = pd.to_datetime(holidays['Date'])\n",
    "holidays_2012_2019 = holidays.loc[(holidays['Date'] >= '01/01/2015')\n",
    "                     & (holidays['Date'] <= '12/31/2019')]\n",
    "print(holidays_2012_2019.head())                  "
   ]
  },
  {
   "cell_type": "code",
   "execution_count": 14,
   "metadata": {
    "colab": {
     "base_uri": "https://localhost:8080/"
    },
    "id": "KNF1xvYvssvg",
    "outputId": "58fb652b-7aad-451b-fd13-9ab634ff0f46"
   },
   "outputs": [
    {
     "name": "stdout",
     "output_type": "stream",
     "text": [
      "         Date      Holiday    WeekDay\n",
      "11 2015-07-04  4th of July   Saturday\n",
      "12 2016-07-04  4th of July     Monday\n",
      "13 2017-07-04  4th of July    Tuesday\n",
      "14 2018-07-04  4th of July  Wednesday\n",
      "15 2019-07-04  4th of July   Thursday\n"
     ]
    }
   ],
   "source": [
    "holidays_2012_2019 = holidays_2012_2019.drop(['Month', 'Day', 'Year'], axis=1)\n",
    "print(holidays_2012_2019.head())"
   ]
  },
  {
   "cell_type": "code",
   "execution_count": 16,
   "metadata": {
    "id": "XZSV59dgJbib"
   },
   "outputs": [],
   "source": [
    "holidays_2012_2019.to_csv('../Data/holidays_2012_2019.csv', header=True, index=False)"
   ]
  }
 ],
 "metadata": {
  "colab": {
   "provenance": []
  },
  "kernelspec": {
   "display_name": "Python 3 (ipykernel)",
   "language": "python",
   "name": "python3"
  },
  "language_info": {
   "codemirror_mode": {
    "name": "ipython",
    "version": 3
   },
   "file_extension": ".py",
   "mimetype": "text/x-python",
   "name": "python",
   "nbconvert_exporter": "python",
   "pygments_lexer": "ipython3",
   "version": "3.9.13"
  }
 },
 "nbformat": 4,
 "nbformat_minor": 1
}
